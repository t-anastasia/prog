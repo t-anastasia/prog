{
 "cells": [
  {
   "cell_type": "markdown",
   "id": "e663ed34",
   "metadata": {},
   "source": [
    "# Инвариантная самостоятельная работа 1\n",
    "### Выполнила: Терентьева Анастасия Максимовна"
   ]
  },
  {
   "cell_type": "markdown",
   "id": "15b3cf56",
   "metadata": {},
   "source": [
    "### Формулировка задания\n",
    "1.1. Разработка скрипта, вычисляющего статистические показатели (среднее значение, дисперсия, среднее квадратичное отклонение) для данных, считанных из CSV-файла.\n",
    "\n",
    "1.2. Осуществить рефакторинг (модификация) скрипта, вычисляющего статистические показатели для данных, считанных из CSV, с использованием библиотеки научных вычислений numpy.\n",
    "\n",
    "1.3. На основе данных, предоставленных преподавателем, реализовать отображение данных на точечной диаграмме с помощью библиотеки matplotlib. Создать модель (квадратичная функция) для предсказания новых данных и нанести график этой функции на точечную диаграмму. Вычислить отклонение данных модели от реальных данных.\n",
    "\n",
    "1.4. Формирование отчета по выполненной самостоятельной работе и публикация его в портфолио."
   ]
  },
  {
   "cell_type": "code",
   "execution_count": 1,
   "id": "18688d5f",
   "metadata": {},
   "outputs": [],
   "source": [
    "import pandas as pd\n",
    "import numpy as np\n",
    "from sklearn.linear_model import LinearRegression\n",
    "import matplotlib.pyplot as plt"
   ]
  },
  {
   "cell_type": "code",
   "execution_count": 2,
   "id": "d2ad1552",
   "metadata": {},
   "outputs": [
    {
     "data": {
      "text/plain": [
       "(47, 3)"
      ]
     },
     "execution_count": 2,
     "metadata": {},
     "output_type": "execute_result"
    }
   ],
   "source": [
    "data = pd.read_csv('data_vsr_1.txt')\n",
    "data.shape"
   ]
  },
  {
   "cell_type": "code",
   "execution_count": 3,
   "id": "13ff6edc",
   "metadata": {},
   "outputs": [
    {
     "data": {
      "text/html": [
       "<div>\n",
       "<style scoped>\n",
       "    .dataframe tbody tr th:only-of-type {\n",
       "        vertical-align: middle;\n",
       "    }\n",
       "\n",
       "    .dataframe tbody tr th {\n",
       "        vertical-align: top;\n",
       "    }\n",
       "\n",
       "    .dataframe thead th {\n",
       "        text-align: right;\n",
       "    }\n",
       "</style>\n",
       "<table border=\"1\" class=\"dataframe\">\n",
       "  <thead>\n",
       "    <tr style=\"text-align: right;\">\n",
       "      <th></th>\n",
       "      <th>square_house</th>\n",
       "      <th>number_of_rooms</th>\n",
       "      <th>cost</th>\n",
       "    </tr>\n",
       "  </thead>\n",
       "  <tbody>\n",
       "    <tr>\n",
       "      <th>0</th>\n",
       "      <td>2104</td>\n",
       "      <td>3</td>\n",
       "      <td>399900</td>\n",
       "    </tr>\n",
       "    <tr>\n",
       "      <th>1</th>\n",
       "      <td>1600</td>\n",
       "      <td>3</td>\n",
       "      <td>329900</td>\n",
       "    </tr>\n",
       "    <tr>\n",
       "      <th>2</th>\n",
       "      <td>2400</td>\n",
       "      <td>3</td>\n",
       "      <td>369000</td>\n",
       "    </tr>\n",
       "    <tr>\n",
       "      <th>3</th>\n",
       "      <td>1416</td>\n",
       "      <td>2</td>\n",
       "      <td>232000</td>\n",
       "    </tr>\n",
       "    <tr>\n",
       "      <th>4</th>\n",
       "      <td>3000</td>\n",
       "      <td>4</td>\n",
       "      <td>539900</td>\n",
       "    </tr>\n",
       "  </tbody>\n",
       "</table>\n",
       "</div>"
      ],
      "text/plain": [
       "   square_house  number_of_rooms    cost\n",
       "0          2104                3  399900\n",
       "1          1600                3  329900\n",
       "2          2400                3  369000\n",
       "3          1416                2  232000\n",
       "4          3000                4  539900"
      ]
     },
     "execution_count": 3,
     "metadata": {},
     "output_type": "execute_result"
    }
   ],
   "source": [
    "data.head()"
   ]
  },
  {
   "cell_type": "markdown",
   "id": "88798be0",
   "metadata": {},
   "source": [
    "## 1.1 Разработка скрипта, вычисляющего статистические показатели"
   ]
  },
  {
   "cell_type": "code",
   "execution_count": 4,
   "id": "7a5e6cca",
   "metadata": {},
   "outputs": [],
   "source": [
    "def mean_arth(data):\n",
    "    \n",
    "    n = len(data)\n",
    "    mean = sum(data) / n\n",
    "    return mean\n",
    "\n",
    "def variance(data):\n",
    "    \n",
    "    n = len(data)\n",
    "    mean = sum(data) / n\n",
    "    deviations = [(x - mean) ** 2 for x in data]\n",
    "    variance = sum(deviations) / n\n",
    "    return variance\n",
    "\n",
    "def st_dev(data):\n",
    "    \n",
    "    import math\n",
    "    var = variance(data)\n",
    "    std_dev = math.sqrt(var)\n",
    "    return std_dev"
   ]
  },
  {
   "cell_type": "markdown",
   "id": "c7a45ee2",
   "metadata": {},
   "source": [
    "## 1.2. C использованием библиотеки научных вычислений numpy"
   ]
  },
  {
   "cell_type": "markdown",
   "id": "66cd95b4",
   "metadata": {},
   "source": [
    "### Среднее"
   ]
  },
  {
   "cell_type": "code",
   "execution_count": 5,
   "id": "dc03ec42",
   "metadata": {},
   "outputs": [
    {
     "data": {
      "text/plain": [
       "square_house         2000.680851\n",
       "number_of_rooms         3.170213\n",
       "cost               340412.659574\n",
       "dtype: float64"
      ]
     },
     "execution_count": 5,
     "metadata": {},
     "output_type": "execute_result"
    }
   ],
   "source": [
    "data.mean()"
   ]
  },
  {
   "cell_type": "markdown",
   "id": "405e6441",
   "metadata": {},
   "source": [
    "### Дисперсия"
   ]
  },
  {
   "cell_type": "code",
   "execution_count": 6,
   "id": "70192651",
   "metadata": {},
   "outputs": [
    {
     "data": {
      "text/plain": [
       "square_house       6.315518e+05\n",
       "number_of_rooms    5.790934e-01\n",
       "cost               1.563498e+10\n",
       "dtype: float64"
      ]
     },
     "execution_count": 6,
     "metadata": {},
     "output_type": "execute_result"
    }
   ],
   "source": [
    "data.var()"
   ]
  },
  {
   "cell_type": "markdown",
   "id": "91700dc9",
   "metadata": {},
   "source": [
    "### Среднее квадратичное отклонение"
   ]
  },
  {
   "cell_type": "code",
   "execution_count": 7,
   "id": "52de47fe",
   "metadata": {},
   "outputs": [
    {
     "data": {
      "text/plain": [
       "square_house          794.702354\n",
       "number_of_rooms         0.760982\n",
       "cost               125039.899586\n",
       "dtype: float64"
      ]
     },
     "execution_count": 7,
     "metadata": {},
     "output_type": "execute_result"
    }
   ],
   "source": [
    "data.std()"
   ]
  },
  {
   "cell_type": "markdown",
   "id": "d4b7b345",
   "metadata": {},
   "source": [
    "### Табличка основных статистик"
   ]
  },
  {
   "cell_type": "code",
   "execution_count": 8,
   "id": "ba63f7eb",
   "metadata": {},
   "outputs": [
    {
     "data": {
      "text/html": [
       "<div>\n",
       "<style scoped>\n",
       "    .dataframe tbody tr th:only-of-type {\n",
       "        vertical-align: middle;\n",
       "    }\n",
       "\n",
       "    .dataframe tbody tr th {\n",
       "        vertical-align: top;\n",
       "    }\n",
       "\n",
       "    .dataframe thead th {\n",
       "        text-align: right;\n",
       "    }\n",
       "</style>\n",
       "<table border=\"1\" class=\"dataframe\">\n",
       "  <thead>\n",
       "    <tr style=\"text-align: right;\">\n",
       "      <th></th>\n",
       "      <th>square_house</th>\n",
       "      <th>number_of_rooms</th>\n",
       "      <th>cost</th>\n",
       "    </tr>\n",
       "  </thead>\n",
       "  <tbody>\n",
       "    <tr>\n",
       "      <th>count</th>\n",
       "      <td>47.000000</td>\n",
       "      <td>47.000000</td>\n",
       "      <td>47.000000</td>\n",
       "    </tr>\n",
       "    <tr>\n",
       "      <th>mean</th>\n",
       "      <td>2000.680851</td>\n",
       "      <td>3.170213</td>\n",
       "      <td>340412.659574</td>\n",
       "    </tr>\n",
       "    <tr>\n",
       "      <th>std</th>\n",
       "      <td>794.702354</td>\n",
       "      <td>0.760982</td>\n",
       "      <td>125039.899586</td>\n",
       "    </tr>\n",
       "    <tr>\n",
       "      <th>min</th>\n",
       "      <td>852.000000</td>\n",
       "      <td>1.000000</td>\n",
       "      <td>169900.000000</td>\n",
       "    </tr>\n",
       "    <tr>\n",
       "      <th>25%</th>\n",
       "      <td>1432.000000</td>\n",
       "      <td>3.000000</td>\n",
       "      <td>249900.000000</td>\n",
       "    </tr>\n",
       "    <tr>\n",
       "      <th>50%</th>\n",
       "      <td>1888.000000</td>\n",
       "      <td>3.000000</td>\n",
       "      <td>299900.000000</td>\n",
       "    </tr>\n",
       "    <tr>\n",
       "      <th>75%</th>\n",
       "      <td>2269.000000</td>\n",
       "      <td>4.000000</td>\n",
       "      <td>384450.000000</td>\n",
       "    </tr>\n",
       "    <tr>\n",
       "      <th>max</th>\n",
       "      <td>4478.000000</td>\n",
       "      <td>5.000000</td>\n",
       "      <td>699900.000000</td>\n",
       "    </tr>\n",
       "  </tbody>\n",
       "</table>\n",
       "</div>"
      ],
      "text/plain": [
       "       square_house  number_of_rooms           cost\n",
       "count     47.000000        47.000000      47.000000\n",
       "mean    2000.680851         3.170213  340412.659574\n",
       "std      794.702354         0.760982  125039.899586\n",
       "min      852.000000         1.000000  169900.000000\n",
       "25%     1432.000000         3.000000  249900.000000\n",
       "50%     1888.000000         3.000000  299900.000000\n",
       "75%     2269.000000         4.000000  384450.000000\n",
       "max     4478.000000         5.000000  699900.000000"
      ]
     },
     "execution_count": 8,
     "metadata": {},
     "output_type": "execute_result"
    }
   ],
   "source": [
    "data.describe()"
   ]
  },
  {
   "cell_type": "markdown",
   "id": "7bed0e69",
   "metadata": {},
   "source": [
    "## 1.3. Модель "
   ]
  },
  {
   "cell_type": "code",
   "execution_count": 9,
   "id": "3c1181f2",
   "metadata": {},
   "outputs": [],
   "source": [
    "x = data.iloc[:,0:2]\n",
    "y = data.iloc[:,2]\n",
    "model = LinearRegression().fit(x, y)\n",
    "y_pred = model.predict(x)"
   ]
  },
  {
   "cell_type": "code",
   "execution_count": 10,
   "id": "c6991135",
   "metadata": {},
   "outputs": [
    {
     "data": {
      "text/plain": [
       "0.7329450180289143"
      ]
     },
     "execution_count": 10,
     "metadata": {},
     "output_type": "execute_result"
    }
   ],
   "source": [
    "model.score(x, y)"
   ]
  },
  {
   "cell_type": "markdown",
   "id": "f8583383",
   "metadata": {},
   "source": [
    "В этом наборе данных по логике должна наблюдаться мультиколлинеарность: сколлелированность между площадью квартиры и количеством комнат (но лаболаторная не про это)"
   ]
  },
  {
   "cell_type": "code",
   "execution_count": 11,
   "id": "67225037",
   "metadata": {},
   "outputs": [
    {
     "data": {
      "image/png": "[encoded data removed]",
      "text/plain": [
       "<Figure size 432x288 with 1 Axes>"
      ]
     },
     "metadata": {
      "needs_background": "light"
     },
     "output_type": "display_data"
    }
   ],
   "source": [
    "fig, ax = plt.subplots()\n",
    "\n",
    "ax.scatter(data.square_house, data.cost,\n",
    "           c = data.number_of_rooms )\n",
    "\n",
    "ax.set_title('Стоимость от площади квартиры и количества комнат')\n",
    "\n",
    "plt.show()"
   ]
  },
  {
   "cell_type": "code",
   "execution_count": 12,
   "id": "2dce46ed",
   "metadata": {},
   "outputs": [
    {
     "data": {
      "image/png": "[encoded data removed]",
      "text/plain": [
       "<Figure size 432x288 with 1 Axes>"
      ]
     },
     "metadata": {
      "needs_background": "light"
     },
     "output_type": "display_data"
    }
   ],
   "source": [
    "fig, ax = plt.subplots()\n",
    "\n",
    "ax.scatter(data.square_house, data.cost,\n",
    "           label = 'Реальная стоимость')\n",
    "\n",
    "ax.scatter(data.square_house, y_pred,\n",
    "           label = 'Предсказанная стоимость' )\n",
    "\n",
    "ax.set_title('Стоимость от площади квартиры')\n",
    "\n",
    "ax.legend()\n",
    "plt.show()"
   ]
  }
 ],
 "metadata": {
  "kernelspec": {
   "display_name": "Python 3",
   "language": "python",
   "name": "python3"
  },
  "language_info": {
   "codemirror_mode": {
    "name": "ipython",
    "version": 3
   },
   "file_extension": ".py",
   "mimetype": "text/x-python",
   "name": "python",
   "nbconvert_exporter": "python",
   "pygments_lexer": "ipython3",
   "version": "3.8.8"
  }
 },
 "nbformat": 4,
 "nbformat_minor": 5
}
