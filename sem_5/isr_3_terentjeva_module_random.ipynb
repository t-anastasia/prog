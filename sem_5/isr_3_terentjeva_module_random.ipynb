{
 "cells": [
  {
   "cell_type": "markdown",
   "id": "27cbac0f",
   "metadata": {},
   "source": [
    "# Модуль random\n",
    "### Выполнила: Терентьева Анастасия Максимовна"
   ]
  },
  {
   "cell_type": "markdown",
   "id": "b1c3bbe3",
   "metadata": {},
   "source": [
    "### 3 ИСР\n",
    "1.1. Исследовать функционал одного из модулей стандартной библиотеки (string, re, datetime, math, random, os, и т.д.) и, используя инструмент Jupyter Notebook, Typora, встроенный редактор Markdown сервиса GitHub, создать документ с описанием и примерами использования его функционала. Опубликовать его в портфолио."
   ]
  },
  {
   "cell_type": "code",
   "execution_count": 17,
   "id": "f4481a89",
   "metadata": {},
   "outputs": [
    {
     "data": {
      "image/jpeg": "[encoded data removed]",
      "text/html": [
       "\n",
       "        <iframe\n",
       "            width=\"800\"\n",
       "            height=\"350\"\n",
       "            src=\"https://www.youtube.com/embed/ZAAUXECiIK8\"\n",
       "            frameborder=\"0\"\n",
       "            allowfullscreen\n",
       "        ></iframe>\n",
       "        "
      ],
      "text/plain": [
       "<IPython.lib.display.YouTubeVideo at 0x7fc6eaf941f0>"
      ]
     },
     "execution_count": 17,
     "metadata": {},
     "output_type": "execute_result"
    }
   ],
   "source": [
    "from IPython.display import YouTubeVideo\n",
    "YouTubeVideo('ZAAUXECiIK8', width=800, height=350)"
   ]
  },
  {
   "cell_type": "code",
   "execution_count": 8,
   "id": "810a4521",
   "metadata": {},
   "outputs": [],
   "source": [
    "import random"
   ]
  },
  {
   "cell_type": "markdown",
   "id": "2f50eb39",
   "metadata": {},
   "source": [
    "Возвращает псевдослучайное число от 0.0 до 1.0"
   ]
  },
  {
   "cell_type": "code",
   "execution_count": 9,
   "id": "0424e684",
   "metadata": {},
   "outputs": [
    {
     "data": {
      "text/plain": [
       "0.16345093153874157"
      ]
     },
     "execution_count": 9,
     "metadata": {},
     "output_type": "execute_result"
    }
   ],
   "source": [
    "random.random()"
   ]
  },
  {
   "cell_type": "markdown",
   "id": "7715ef46",
   "metadata": {},
   "source": [
    "Настраивает генератор случайных чисел"
   ]
  },
  {
   "cell_type": "code",
   "execution_count": 10,
   "id": "ec6cf0e8",
   "metadata": {},
   "outputs": [],
   "source": [
    "random.seed(578)"
   ]
  },
  {
   "cell_type": "markdown",
   "id": "0ac1df2f",
   "metadata": {},
   "source": [
    "Возвращает псевдослучайное вещественное число в диапазоне"
   ]
  },
  {
   "cell_type": "code",
   "execution_count": 11,
   "id": "8eb787bf",
   "metadata": {},
   "outputs": [
    {
     "data": {
      "text/plain": [
       "22.798733043561718"
      ]
     },
     "execution_count": 11,
     "metadata": {},
     "output_type": "execute_result"
    }
   ],
   "source": [
    "random.uniform(6, 28)"
   ]
  },
  {
   "cell_type": "markdown",
   "id": "1f24ca60",
   "metadata": {},
   "source": [
    "Возвращает псевдослучайное <b>целое</b> число в диапазоне "
   ]
  },
  {
   "cell_type": "code",
   "execution_count": 12,
   "id": "e8c33b7d",
   "metadata": {},
   "outputs": [
    {
     "data": {
      "text/plain": [
       "11"
      ]
     },
     "execution_count": 12,
     "metadata": {},
     "output_type": "execute_result"
    }
   ],
   "source": [
    "random.randint(6, 28)"
   ]
  },
  {
   "cell_type": "markdown",
   "id": "05fcdca5",
   "metadata": {},
   "source": [
    "Возвращает случайный элемент из любой последовательности (строки, списка, кортежа):"
   ]
  },
  {
   "cell_type": "code",
   "execution_count": 13,
   "id": "aec44a87",
   "metadata": {},
   "outputs": [
    {
     "data": {
      "text/plain": [
       "'a'"
      ]
     },
     "execution_count": 13,
     "metadata": {},
     "output_type": "execute_result"
    }
   ],
   "source": [
    "random.choice('Chewbacca')\n",
    "'h'\n",
    "random.choice([1,2,'a','b'])\n",
    "2\n",
    "random.choice([1,2,'a','b'])\n",
    "'a'"
   ]
  },
  {
   "cell_type": "markdown",
   "id": "fef45e38",
   "metadata": {},
   "source": [
    "Перемешивает последовательность (изменяется сама последовательность). Поэтому функция не работает для неизменяемых объектов."
   ]
  },
  {
   "cell_type": "code",
   "execution_count": 15,
   "id": "a3888686",
   "metadata": {},
   "outputs": [
    {
     "data": {
      "text/plain": [
       "[6, 7, 1, 9, 5, 8, 3, 2, 4]"
      ]
     },
     "execution_count": 15,
     "metadata": {},
     "output_type": "execute_result"
    }
   ],
   "source": [
    "List = [1,2,3,4,5,6,7,8,9]\n",
    "List\n",
    "[1, 2, 3, 4, 5, 6, 7, 8, 9]\n",
    "random.shuffle(List)\n",
    "List\n",
    "[6, 7, 1, 9, 5, 8, 3, 2, 4]"
   ]
  }
 ],
 "metadata": {
  "kernelspec": {
   "display_name": "Python 3",
   "language": "python",
   "name": "python3"
  },
  "language_info": {
   "codemirror_mode": {
    "name": "ipython",
    "version": 3
   },
   "file_extension": ".py",
   "mimetype": "text/x-python",
   "name": "python",
   "nbconvert_exporter": "python",
   "pygments_lexer": "ipython3",
   "version": "3.8.8"
  }
 },
 "nbformat": 4,
 "nbformat_minor": 5
}
